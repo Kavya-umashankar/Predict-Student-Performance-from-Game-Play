{
 "cells": [
  {
   "cell_type": "markdown",
   "id": "44f68f55",
   "metadata": {},
   "source": [
    "# Predict Student Performance from Game Play\n",
    "##### Kaggle link: https://www.kaggle.com/competitions/predict-student-performance-from-game-play\n"
   ]
  },
  {
   "cell_type": "markdown",
   "id": "fc95df79",
   "metadata": {},
   "source": [
    "### Libraries"
   ]
  },
  {
   "cell_type": "code",
   "execution_count": 1,
   "id": "45680e90",
   "metadata": {},
   "outputs": [],
   "source": [
    "import pandas as pd\n",
    "import numpy as np\n",
    "import os\n",
    "import math\n",
    "import seaborn as sns\n",
    "from scipy import stats\n",
    "from sklearn.tree import DecisionTreeRegressor\n",
    "from sklearn.model_selection import train_test_split\n",
    "from sklearn import preprocessing\n",
    "import sklearn\n",
    "import tensorflow as tf\n",
    "from tensorflow import keras\n",
    "tf.random.set_seed(23)\n",
    "from tensorflow.keras.metrics import Precision, Recall\n",
    "from sklearn.metrics import f1_score\n",
    "from sklearn.preprocessing import StandardScaler\n",
    "\n",
    "# To plot pretty figures\n",
    "%matplotlib inline\n",
    "import matplotlib as mpl\n",
    "import matplotlib.pyplot as plt\n",
    "mpl.rc('axes', labelsize=14)\n",
    "mpl.rc('xtick', labelsize=12)\n",
    "mpl.rc('ytick', labelsize=12)"
   ]
  },
  {
   "cell_type": "markdown",
   "id": "c6b9e746",
   "metadata": {},
   "source": [
    "### Loading the datasets\n"
   ]
  },
  {
   "cell_type": "code",
   "execution_count": 2,
   "id": "c420ef29",
   "metadata": {},
   "outputs": [],
   "source": [
    "dataset = pd.DataFrame(pd.read_csv(\"train.csv\"))\n",
    "train_labels = pd.DataFrame(pd.read_csv(\"train_labels.csv\"))"
   ]
  },
  {
   "cell_type": "markdown",
   "id": "5d2c5b71",
   "metadata": {},
   "source": [
    "#### I have taken small amount of data since my Computer was crashing, by Dividing the dataset through the session id, i have taken 5% of total unique Session_id."
   ]
  },
  {
   "cell_type": "code",
   "execution_count": 3,
   "id": "46e38a99",
   "metadata": {},
   "outputs": [
    {
     "name": "stdout",
     "output_type": "stream",
     "text": [
      "Data set shape (26296946, 20)\n",
      "Sampled Data set shape (1323654, 20)\n"
     ]
    }
   ],
   "source": [
    "print(\"Data set shape\",dataset.shape)\n",
    "total_no_session=len(dataset['session_id'].unique())\n",
    "session_list=dataset['session_id'].unique()\n",
    "sample_size_session=math.floor(total_no_session*0.05)\n",
    "sample_session_list=session_list[:sample_size_session]\n",
    "dataset=dataset[dataset['session_id'].isin(sample_session_list)]\n",
    "print(\"Sampled Data set shape\",dataset.shape)"
   ]
  },
  {
   "cell_type": "markdown",
   "id": "ce8960f0",
   "metadata": {},
   "source": [
    "#### Saving The sample dataset to csv, incase of reading the data again."
   ]
  },
  {
   "cell_type": "code",
   "execution_count": 4,
   "id": "d414d2eb",
   "metadata": {},
   "outputs": [],
   "source": [
    "dataset.to_csv(\"sample.csv\", sep='\\t')"
   ]
  },
  {
   "cell_type": "code",
   "execution_count": 5,
   "id": "90e2160e",
   "metadata": {},
   "outputs": [
    {
     "name": "stdout",
     "output_type": "stream",
     "text": [
      "Train Labels shape (424116, 2)\n"
     ]
    },
    {
     "data": {
      "text/html": [
       "<div>\n",
       "<style scoped>\n",
       "    .dataframe tbody tr th:only-of-type {\n",
       "        vertical-align: middle;\n",
       "    }\n",
       "\n",
       "    .dataframe tbody tr th {\n",
       "        vertical-align: top;\n",
       "    }\n",
       "\n",
       "    .dataframe thead th {\n",
       "        text-align: right;\n",
       "    }\n",
       "</style>\n",
       "<table border=\"1\" class=\"dataframe\">\n",
       "  <thead>\n",
       "    <tr style=\"text-align: right;\">\n",
       "      <th></th>\n",
       "      <th>session_id</th>\n",
       "      <th>correct</th>\n",
       "    </tr>\n",
       "  </thead>\n",
       "  <tbody>\n",
       "    <tr>\n",
       "      <th>0</th>\n",
       "      <td>20090312431273200_q1</td>\n",
       "      <td>1</td>\n",
       "    </tr>\n",
       "    <tr>\n",
       "      <th>1</th>\n",
       "      <td>20090312433251036_q1</td>\n",
       "      <td>0</td>\n",
       "    </tr>\n",
       "    <tr>\n",
       "      <th>2</th>\n",
       "      <td>20090312455206810_q1</td>\n",
       "      <td>1</td>\n",
       "    </tr>\n",
       "    <tr>\n",
       "      <th>3</th>\n",
       "      <td>20090313091715820_q1</td>\n",
       "      <td>0</td>\n",
       "    </tr>\n",
       "    <tr>\n",
       "      <th>4</th>\n",
       "      <td>20090313571836404_q1</td>\n",
       "      <td>1</td>\n",
       "    </tr>\n",
       "  </tbody>\n",
       "</table>\n",
       "</div>"
      ],
      "text/plain": [
       "             session_id  correct\n",
       "0  20090312431273200_q1        1\n",
       "1  20090312433251036_q1        0\n",
       "2  20090312455206810_q1        1\n",
       "3  20090313091715820_q1        0\n",
       "4  20090313571836404_q1        1"
      ]
     },
     "execution_count": 5,
     "metadata": {},
     "output_type": "execute_result"
    }
   ],
   "source": [
    "print(\"Train Labels shape\",train_labels.shape)\n",
    "train_labels.head()"
   ]
  },
  {
   "cell_type": "code",
   "execution_count": 6,
   "id": "2871af41",
   "metadata": {},
   "outputs": [],
   "source": [
    "#splitting \"_q\"  to get seession_id and the question number\n",
    "train_labels[['session_id','q']] = train_labels['session_id'].str.split('_q',expand=True)"
   ]
  },
  {
   "cell_type": "code",
   "execution_count": 7,
   "id": "9a59ac9a",
   "metadata": {},
   "outputs": [
    {
     "name": "stdout",
     "output_type": "stream",
     "text": [
      "<class 'pandas.core.frame.DataFrame'>\n",
      "RangeIndex: 424116 entries, 0 to 424115\n",
      "Data columns (total 3 columns):\n",
      " #   Column      Non-Null Count   Dtype \n",
      "---  ------      --------------   ----- \n",
      " 0   session_id  424116 non-null  object\n",
      " 1   correct     424116 non-null  int64 \n",
      " 2   q           424116 non-null  object\n",
      "dtypes: int64(1), object(2)\n",
      "memory usage: 9.7+ MB\n"
     ]
    }
   ],
   "source": [
    "train_labels.info()"
   ]
  },
  {
   "cell_type": "code",
   "execution_count": 8,
   "id": "9e3cb49d",
   "metadata": {},
   "outputs": [
    {
     "data": {
      "text/html": [
       "<div>\n",
       "<style scoped>\n",
       "    .dataframe tbody tr th:only-of-type {\n",
       "        vertical-align: middle;\n",
       "    }\n",
       "\n",
       "    .dataframe tbody tr th {\n",
       "        vertical-align: top;\n",
       "    }\n",
       "\n",
       "    .dataframe thead th {\n",
       "        text-align: right;\n",
       "    }\n",
       "</style>\n",
       "<table border=\"1\" class=\"dataframe\">\n",
       "  <thead>\n",
       "    <tr style=\"text-align: right;\">\n",
       "      <th></th>\n",
       "      <th>session_id</th>\n",
       "      <th>correct</th>\n",
       "      <th>q</th>\n",
       "    </tr>\n",
       "  </thead>\n",
       "  <tbody>\n",
       "    <tr>\n",
       "      <th>0</th>\n",
       "      <td>20090312431273200</td>\n",
       "      <td>1</td>\n",
       "      <td>1</td>\n",
       "    </tr>\n",
       "    <tr>\n",
       "      <th>1</th>\n",
       "      <td>20090312433251036</td>\n",
       "      <td>0</td>\n",
       "      <td>1</td>\n",
       "    </tr>\n",
       "    <tr>\n",
       "      <th>2</th>\n",
       "      <td>20090312455206810</td>\n",
       "      <td>1</td>\n",
       "      <td>1</td>\n",
       "    </tr>\n",
       "    <tr>\n",
       "      <th>3</th>\n",
       "      <td>20090313091715820</td>\n",
       "      <td>0</td>\n",
       "      <td>1</td>\n",
       "    </tr>\n",
       "    <tr>\n",
       "      <th>4</th>\n",
       "      <td>20090313571836404</td>\n",
       "      <td>1</td>\n",
       "      <td>1</td>\n",
       "    </tr>\n",
       "    <tr>\n",
       "      <th>...</th>\n",
       "      <td>...</td>\n",
       "      <td>...</td>\n",
       "      <td>...</td>\n",
       "    </tr>\n",
       "    <tr>\n",
       "      <th>401727</th>\n",
       "      <td>20100514244972480</td>\n",
       "      <td>1</td>\n",
       "      <td>18</td>\n",
       "    </tr>\n",
       "    <tr>\n",
       "      <th>401728</th>\n",
       "      <td>20100514250029070</td>\n",
       "      <td>1</td>\n",
       "      <td>18</td>\n",
       "    </tr>\n",
       "    <tr>\n",
       "      <th>401729</th>\n",
       "      <td>20100514275123884</td>\n",
       "      <td>1</td>\n",
       "      <td>18</td>\n",
       "    </tr>\n",
       "    <tr>\n",
       "      <th>401730</th>\n",
       "      <td>20100514334097228</td>\n",
       "      <td>1</td>\n",
       "      <td>18</td>\n",
       "    </tr>\n",
       "    <tr>\n",
       "      <th>401731</th>\n",
       "      <td>20100514351002520</td>\n",
       "      <td>1</td>\n",
       "      <td>18</td>\n",
       "    </tr>\n",
       "  </tbody>\n",
       "</table>\n",
       "<p>21204 rows × 3 columns</p>\n",
       "</div>"
      ],
      "text/plain": [
       "               session_id  correct   q\n",
       "0       20090312431273200        1   1\n",
       "1       20090312433251036        0   1\n",
       "2       20090312455206810        1   1\n",
       "3       20090313091715820        0   1\n",
       "4       20090313571836404        1   1\n",
       "...                   ...      ...  ..\n",
       "401727  20100514244972480        1  18\n",
       "401728  20100514250029070        1  18\n",
       "401729  20100514275123884        1  18\n",
       "401730  20100514334097228        1  18\n",
       "401731  20100514351002520        1  18\n",
       "\n",
       "[21204 rows x 3 columns]"
      ]
     },
     "execution_count": 8,
     "metadata": {},
     "output_type": "execute_result"
    }
   ],
   "source": [
    "#Converting to str to compare in train_labels data frame\n",
    "str_sample_session_list = [str(num) for num in sample_session_list]\n",
    "#for the train labels also we are just taking 5% of same session_id\n",
    "train_labels[train_labels['session_id'].isin(str_sample_session_list)]"
   ]
  },
  {
   "cell_type": "code",
   "execution_count": 9,
   "id": "f1dc90d2",
   "metadata": {},
   "outputs": [
    {
     "name": "stdout",
     "output_type": "stream",
     "text": [
      "<class 'pandas.core.frame.DataFrame'>\n",
      "RangeIndex: 424116 entries, 0 to 424115\n",
      "Data columns (total 3 columns):\n",
      " #   Column      Non-Null Count   Dtype \n",
      "---  ------      --------------   ----- \n",
      " 0   session_id  424116 non-null  object\n",
      " 1   correct     424116 non-null  int64 \n",
      " 2   q           424116 non-null  object\n",
      "dtypes: int64(1), object(2)\n",
      "memory usage: 9.7+ MB\n"
     ]
    }
   ],
   "source": [
    "train_labels.info()"
   ]
  },
  {
   "cell_type": "markdown",
   "id": "2ec8d28b",
   "metadata": {},
   "source": [
    "## Cleaning the data"
   ]
  },
  {
   "cell_type": "code",
   "execution_count": 10,
   "id": "04be5b97",
   "metadata": {},
   "outputs": [
    {
     "data": {
      "text/plain": [
       "Index(['page', 'hover_duration', 'text', 'text_fqid'], dtype='object')"
      ]
     },
     "execution_count": 10,
     "metadata": {},
     "output_type": "execute_result"
    }
   ],
   "source": [
    "#Trying to remove columns which has more than 60% of null values\n",
    "dataset.columns[(dataset.isna().sum()/len(dataset))>0.6]"
   ]
  },
  {
   "cell_type": "code",
   "execution_count": 11,
   "id": "337e2602",
   "metadata": {},
   "outputs": [],
   "source": [
    "del dataset['page']\n",
    "del dataset['hover_duration']\n",
    "del dataset['text']\n",
    "del dataset['text_fqid']"
   ]
  },
  {
   "cell_type": "code",
   "execution_count": 12,
   "id": "ba6bfca4",
   "metadata": {},
   "outputs": [
    {
     "data": {
      "text/plain": [
       "session_id            0\n",
       "index                 0\n",
       "elapsed_time          0\n",
       "event_name            0\n",
       "name                  0\n",
       "level                 0\n",
       "room_coor_x      115013\n",
       "room_coor_y      115013\n",
       "screen_coor_x    115013\n",
       "screen_coor_y    115013\n",
       "fqid             411336\n",
       "room_fqid             0\n",
       "fullscreen            0\n",
       "hq                    0\n",
       "music                 0\n",
       "level_group           0\n",
       "dtype: int64"
      ]
     },
     "execution_count": 12,
     "metadata": {},
     "output_type": "execute_result"
    }
   ],
   "source": [
    "dataset.isna().sum()"
   ]
  },
  {
   "cell_type": "code",
   "execution_count": 13,
   "id": "f2313b21",
   "metadata": {},
   "outputs": [],
   "source": [
    "# Filling the Nan values\n",
    "dataset['room_coor_x'].fillna(method=\"ffill\", inplace= True)\n",
    "dataset['room_coor_y'].fillna(method=\"ffill\", inplace= True)\n",
    "dataset['screen_coor_x'].fillna(method=\"ffill\", inplace= True)\n",
    "dataset['screen_coor_y'].fillna(method=\"ffill\", inplace= True)\n",
    "dataset['fqid'].fillna(method=\"ffill\", inplace= True)"
   ]
  },
  {
   "cell_type": "code",
   "execution_count": 15,
   "id": "0107c17f",
   "metadata": {},
   "outputs": [
    {
     "data": {
      "text/html": [
       "<div>\n",
       "<style scoped>\n",
       "    .dataframe tbody tr th:only-of-type {\n",
       "        vertical-align: middle;\n",
       "    }\n",
       "\n",
       "    .dataframe tbody tr th {\n",
       "        vertical-align: top;\n",
       "    }\n",
       "\n",
       "    .dataframe thead th {\n",
       "        text-align: right;\n",
       "    }\n",
       "</style>\n",
       "<table border=\"1\" class=\"dataframe\">\n",
       "  <thead>\n",
       "    <tr style=\"text-align: right;\">\n",
       "      <th></th>\n",
       "      <th>session_id</th>\n",
       "      <th>index</th>\n",
       "      <th>elapsed_time</th>\n",
       "      <th>event_name</th>\n",
       "      <th>name</th>\n",
       "      <th>level</th>\n",
       "      <th>room_coor_x</th>\n",
       "      <th>room_coor_y</th>\n",
       "      <th>screen_coor_x</th>\n",
       "      <th>screen_coor_y</th>\n",
       "      <th>fqid</th>\n",
       "      <th>room_fqid</th>\n",
       "      <th>fullscreen</th>\n",
       "      <th>hq</th>\n",
       "      <th>music</th>\n",
       "      <th>level_group</th>\n",
       "    </tr>\n",
       "  </thead>\n",
       "  <tbody>\n",
       "    <tr>\n",
       "      <th>0</th>\n",
       "      <td>20090312431273200</td>\n",
       "      <td>0</td>\n",
       "      <td>0</td>\n",
       "      <td>1</td>\n",
       "      <td>0</td>\n",
       "      <td>0</td>\n",
       "      <td>-413.991405</td>\n",
       "      <td>-159.314686</td>\n",
       "      <td>380.0</td>\n",
       "      <td>494.0</td>\n",
       "      <td>40</td>\n",
       "      <td>7</td>\n",
       "      <td>0</td>\n",
       "      <td>0</td>\n",
       "      <td>1</td>\n",
       "      <td>0</td>\n",
       "    </tr>\n",
       "    <tr>\n",
       "      <th>1</th>\n",
       "      <td>20090312431273200</td>\n",
       "      <td>1</td>\n",
       "      <td>1323</td>\n",
       "      <td>10</td>\n",
       "      <td>0</td>\n",
       "      <td>0</td>\n",
       "      <td>-413.991405</td>\n",
       "      <td>-159.314686</td>\n",
       "      <td>380.0</td>\n",
       "      <td>494.0</td>\n",
       "      <td>37</td>\n",
       "      <td>7</td>\n",
       "      <td>0</td>\n",
       "      <td>0</td>\n",
       "      <td>1</td>\n",
       "      <td>0</td>\n",
       "    </tr>\n",
       "    <tr>\n",
       "      <th>2</th>\n",
       "      <td>20090312431273200</td>\n",
       "      <td>2</td>\n",
       "      <td>831</td>\n",
       "      <td>10</td>\n",
       "      <td>0</td>\n",
       "      <td>0</td>\n",
       "      <td>-413.991405</td>\n",
       "      <td>-159.314686</td>\n",
       "      <td>380.0</td>\n",
       "      <td>494.0</td>\n",
       "      <td>37</td>\n",
       "      <td>7</td>\n",
       "      <td>0</td>\n",
       "      <td>0</td>\n",
       "      <td>1</td>\n",
       "      <td>0</td>\n",
       "    </tr>\n",
       "    <tr>\n",
       "      <th>3</th>\n",
       "      <td>20090312431273200</td>\n",
       "      <td>3</td>\n",
       "      <td>1147</td>\n",
       "      <td>10</td>\n",
       "      <td>0</td>\n",
       "      <td>0</td>\n",
       "      <td>-413.991405</td>\n",
       "      <td>-159.314686</td>\n",
       "      <td>380.0</td>\n",
       "      <td>494.0</td>\n",
       "      <td>37</td>\n",
       "      <td>7</td>\n",
       "      <td>0</td>\n",
       "      <td>0</td>\n",
       "      <td>1</td>\n",
       "      <td>0</td>\n",
       "    </tr>\n",
       "    <tr>\n",
       "      <th>4</th>\n",
       "      <td>20090312431273200</td>\n",
       "      <td>4</td>\n",
       "      <td>1863</td>\n",
       "      <td>10</td>\n",
       "      <td>0</td>\n",
       "      <td>0</td>\n",
       "      <td>-412.991405</td>\n",
       "      <td>-159.314686</td>\n",
       "      <td>381.0</td>\n",
       "      <td>494.0</td>\n",
       "      <td>37</td>\n",
       "      <td>7</td>\n",
       "      <td>0</td>\n",
       "      <td>0</td>\n",
       "      <td>1</td>\n",
       "      <td>0</td>\n",
       "    </tr>\n",
       "  </tbody>\n",
       "</table>\n",
       "</div>"
      ],
      "text/plain": [
       "          session_id  index  elapsed_time  event_name  name  level  \\\n",
       "0  20090312431273200      0             0           1     0      0   \n",
       "1  20090312431273200      1          1323          10     0      0   \n",
       "2  20090312431273200      2           831          10     0      0   \n",
       "3  20090312431273200      3          1147          10     0      0   \n",
       "4  20090312431273200      4          1863          10     0      0   \n",
       "\n",
       "   room_coor_x  room_coor_y  screen_coor_x  screen_coor_y  fqid  room_fqid  \\\n",
       "0  -413.991405  -159.314686          380.0          494.0    40          7   \n",
       "1  -413.991405  -159.314686          380.0          494.0    37          7   \n",
       "2  -413.991405  -159.314686          380.0          494.0    37          7   \n",
       "3  -413.991405  -159.314686          380.0          494.0    37          7   \n",
       "4  -412.991405  -159.314686          381.0          494.0    37          7   \n",
       "\n",
       "   fullscreen  hq  music  level_group  \n",
       "0           0   0      1            0  \n",
       "1           0   0      1            0  \n",
       "2           0   0      1            0  \n",
       "3           0   0      1            0  \n",
       "4           0   0      1            0  "
      ]
     },
     "execution_count": 15,
     "metadata": {},
     "output_type": "execute_result"
    }
   ],
   "source": [
    "#Encoding the categorical columns\n",
    "label_encoder = preprocessing.LabelEncoder()\n",
    "\n",
    "for i in categorical_cols:\n",
    "    dataset[i]= label_encoder.fit_transform(dataset[i])\n",
    "dataset.head()"
   ]
  },
  {
   "cell_type": "code",
   "execution_count": 16,
   "id": "219946e2",
   "metadata": {},
   "outputs": [
    {
     "data": {
      "text/plain": [
       "['0-4', '13-22', '5-12']"
      ]
     },
     "execution_count": 16,
     "metadata": {},
     "output_type": "execute_result"
    }
   ],
   "source": [
    "list(label_encoder.inverse_transform([0, 1, 2]))"
   ]
  },
  {
   "cell_type": "code",
   "execution_count": 17,
   "id": "a519340b",
   "metadata": {},
   "outputs": [],
   "source": [
    "#Merging the 2 csv file data into one, based on session_id\n",
    "dataset['session_id']=dataset['session_id'].astype(str)\n",
    "datasets=pd.merge(dataset,train_labels,on='session_id',how='inner')\n",
    "datasets.drop(['session_id'],inplace=True,axis=1)"
   ]
  },
  {
   "cell_type": "code",
   "execution_count": 18,
   "id": "9fa750f3",
   "metadata": {
    "scrolled": true
   },
   "outputs": [
    {
     "data": {
      "text/html": [
       "<div>\n",
       "<style scoped>\n",
       "    .dataframe tbody tr th:only-of-type {\n",
       "        vertical-align: middle;\n",
       "    }\n",
       "\n",
       "    .dataframe tbody tr th {\n",
       "        vertical-align: top;\n",
       "    }\n",
       "\n",
       "    .dataframe thead th {\n",
       "        text-align: right;\n",
       "    }\n",
       "</style>\n",
       "<table border=\"1\" class=\"dataframe\">\n",
       "  <thead>\n",
       "    <tr style=\"text-align: right;\">\n",
       "      <th></th>\n",
       "      <th>index</th>\n",
       "      <th>elapsed_time</th>\n",
       "      <th>event_name</th>\n",
       "      <th>name</th>\n",
       "      <th>level</th>\n",
       "      <th>room_coor_x</th>\n",
       "      <th>room_coor_y</th>\n",
       "      <th>screen_coor_x</th>\n",
       "      <th>screen_coor_y</th>\n",
       "      <th>fqid</th>\n",
       "      <th>room_fqid</th>\n",
       "      <th>fullscreen</th>\n",
       "      <th>hq</th>\n",
       "      <th>music</th>\n",
       "      <th>level_group</th>\n",
       "      <th>correct</th>\n",
       "      <th>q</th>\n",
       "    </tr>\n",
       "  </thead>\n",
       "  <tbody>\n",
       "    <tr>\n",
       "      <th>0</th>\n",
       "      <td>0</td>\n",
       "      <td>0</td>\n",
       "      <td>1</td>\n",
       "      <td>0</td>\n",
       "      <td>0</td>\n",
       "      <td>-413.991405</td>\n",
       "      <td>-159.314686</td>\n",
       "      <td>380.0</td>\n",
       "      <td>494.0</td>\n",
       "      <td>40</td>\n",
       "      <td>7</td>\n",
       "      <td>0</td>\n",
       "      <td>0</td>\n",
       "      <td>1</td>\n",
       "      <td>0</td>\n",
       "      <td>1</td>\n",
       "      <td>1</td>\n",
       "    </tr>\n",
       "    <tr>\n",
       "      <th>1</th>\n",
       "      <td>0</td>\n",
       "      <td>0</td>\n",
       "      <td>1</td>\n",
       "      <td>0</td>\n",
       "      <td>0</td>\n",
       "      <td>-413.991405</td>\n",
       "      <td>-159.314686</td>\n",
       "      <td>380.0</td>\n",
       "      <td>494.0</td>\n",
       "      <td>40</td>\n",
       "      <td>7</td>\n",
       "      <td>0</td>\n",
       "      <td>0</td>\n",
       "      <td>1</td>\n",
       "      <td>0</td>\n",
       "      <td>1</td>\n",
       "      <td>2</td>\n",
       "    </tr>\n",
       "    <tr>\n",
       "      <th>2</th>\n",
       "      <td>0</td>\n",
       "      <td>0</td>\n",
       "      <td>1</td>\n",
       "      <td>0</td>\n",
       "      <td>0</td>\n",
       "      <td>-413.991405</td>\n",
       "      <td>-159.314686</td>\n",
       "      <td>380.0</td>\n",
       "      <td>494.0</td>\n",
       "      <td>40</td>\n",
       "      <td>7</td>\n",
       "      <td>0</td>\n",
       "      <td>0</td>\n",
       "      <td>1</td>\n",
       "      <td>0</td>\n",
       "      <td>1</td>\n",
       "      <td>3</td>\n",
       "    </tr>\n",
       "    <tr>\n",
       "      <th>3</th>\n",
       "      <td>0</td>\n",
       "      <td>0</td>\n",
       "      <td>1</td>\n",
       "      <td>0</td>\n",
       "      <td>0</td>\n",
       "      <td>-413.991405</td>\n",
       "      <td>-159.314686</td>\n",
       "      <td>380.0</td>\n",
       "      <td>494.0</td>\n",
       "      <td>40</td>\n",
       "      <td>7</td>\n",
       "      <td>0</td>\n",
       "      <td>0</td>\n",
       "      <td>1</td>\n",
       "      <td>0</td>\n",
       "      <td>1</td>\n",
       "      <td>4</td>\n",
       "    </tr>\n",
       "    <tr>\n",
       "      <th>4</th>\n",
       "      <td>0</td>\n",
       "      <td>0</td>\n",
       "      <td>1</td>\n",
       "      <td>0</td>\n",
       "      <td>0</td>\n",
       "      <td>-413.991405</td>\n",
       "      <td>-159.314686</td>\n",
       "      <td>380.0</td>\n",
       "      <td>494.0</td>\n",
       "      <td>40</td>\n",
       "      <td>7</td>\n",
       "      <td>0</td>\n",
       "      <td>0</td>\n",
       "      <td>1</td>\n",
       "      <td>0</td>\n",
       "      <td>1</td>\n",
       "      <td>5</td>\n",
       "    </tr>\n",
       "  </tbody>\n",
       "</table>\n",
       "</div>"
      ],
      "text/plain": [
       "   index  elapsed_time  event_name  name  level  room_coor_x  room_coor_y  \\\n",
       "0      0             0           1     0      0  -413.991405  -159.314686   \n",
       "1      0             0           1     0      0  -413.991405  -159.314686   \n",
       "2      0             0           1     0      0  -413.991405  -159.314686   \n",
       "3      0             0           1     0      0  -413.991405  -159.314686   \n",
       "4      0             0           1     0      0  -413.991405  -159.314686   \n",
       "\n",
       "   screen_coor_x  screen_coor_y  fqid  room_fqid  fullscreen  hq  music  \\\n",
       "0          380.0          494.0    40          7           0   0      1   \n",
       "1          380.0          494.0    40          7           0   0      1   \n",
       "2          380.0          494.0    40          7           0   0      1   \n",
       "3          380.0          494.0    40          7           0   0      1   \n",
       "4          380.0          494.0    40          7           0   0      1   \n",
       "\n",
       "   level_group  correct  q  \n",
       "0            0        1  1  \n",
       "1            0        1  2  \n",
       "2            0        1  3  \n",
       "3            0        1  4  \n",
       "4            0        1  5  "
      ]
     },
     "execution_count": 18,
     "metadata": {},
     "output_type": "execute_result"
    }
   ],
   "source": [
    "datasets.head()"
   ]
  },
  {
   "cell_type": "code",
   "execution_count": 19,
   "id": "32147874",
   "metadata": {},
   "outputs": [],
   "source": [
    "#saving the dataset, Incase of emergencies\n",
    "datasets.to_csv(\"sample_cleaned.csv\", sep='\\t')"
   ]
  },
  {
   "cell_type": "code",
   "execution_count": 21,
   "id": "9514dd4a",
   "metadata": {},
   "outputs": [],
   "source": [
    "datasets=pd.read_csv(\"sample_cleaned.csv\", sep='\\t')"
   ]
  },
  {
   "cell_type": "code",
   "execution_count": 22,
   "id": "f8cd0753",
   "metadata": {},
   "outputs": [],
   "source": [
    "datasets.drop(['Unnamed: 0','index'],inplace=True,axis=1)\n",
    "# datasets=datasets.reset_index()"
   ]
  },
  {
   "cell_type": "code",
   "execution_count": 23,
   "id": "9a67372c",
   "metadata": {
    "scrolled": true
   },
   "outputs": [
    {
     "data": {
      "text/html": [
       "<div>\n",
       "<style scoped>\n",
       "    .dataframe tbody tr th:only-of-type {\n",
       "        vertical-align: middle;\n",
       "    }\n",
       "\n",
       "    .dataframe tbody tr th {\n",
       "        vertical-align: top;\n",
       "    }\n",
       "\n",
       "    .dataframe thead th {\n",
       "        text-align: right;\n",
       "    }\n",
       "</style>\n",
       "<table border=\"1\" class=\"dataframe\">\n",
       "  <thead>\n",
       "    <tr style=\"text-align: right;\">\n",
       "      <th></th>\n",
       "      <th>elapsed_time</th>\n",
       "      <th>event_name</th>\n",
       "      <th>name</th>\n",
       "      <th>level</th>\n",
       "      <th>room_coor_x</th>\n",
       "      <th>room_coor_y</th>\n",
       "      <th>screen_coor_x</th>\n",
       "      <th>screen_coor_y</th>\n",
       "      <th>fqid</th>\n",
       "      <th>room_fqid</th>\n",
       "      <th>fullscreen</th>\n",
       "      <th>hq</th>\n",
       "      <th>music</th>\n",
       "      <th>level_group</th>\n",
       "      <th>correct</th>\n",
       "      <th>q</th>\n",
       "    </tr>\n",
       "  </thead>\n",
       "  <tbody>\n",
       "    <tr>\n",
       "      <th>0</th>\n",
       "      <td>0</td>\n",
       "      <td>1</td>\n",
       "      <td>0</td>\n",
       "      <td>0</td>\n",
       "      <td>-413.991405</td>\n",
       "      <td>-159.314686</td>\n",
       "      <td>380.0</td>\n",
       "      <td>494.0</td>\n",
       "      <td>40</td>\n",
       "      <td>7</td>\n",
       "      <td>0</td>\n",
       "      <td>0</td>\n",
       "      <td>1</td>\n",
       "      <td>0</td>\n",
       "      <td>1</td>\n",
       "      <td>1</td>\n",
       "    </tr>\n",
       "    <tr>\n",
       "      <th>1</th>\n",
       "      <td>0</td>\n",
       "      <td>1</td>\n",
       "      <td>0</td>\n",
       "      <td>0</td>\n",
       "      <td>-413.991405</td>\n",
       "      <td>-159.314686</td>\n",
       "      <td>380.0</td>\n",
       "      <td>494.0</td>\n",
       "      <td>40</td>\n",
       "      <td>7</td>\n",
       "      <td>0</td>\n",
       "      <td>0</td>\n",
       "      <td>1</td>\n",
       "      <td>0</td>\n",
       "      <td>1</td>\n",
       "      <td>2</td>\n",
       "    </tr>\n",
       "    <tr>\n",
       "      <th>2</th>\n",
       "      <td>0</td>\n",
       "      <td>1</td>\n",
       "      <td>0</td>\n",
       "      <td>0</td>\n",
       "      <td>-413.991405</td>\n",
       "      <td>-159.314686</td>\n",
       "      <td>380.0</td>\n",
       "      <td>494.0</td>\n",
       "      <td>40</td>\n",
       "      <td>7</td>\n",
       "      <td>0</td>\n",
       "      <td>0</td>\n",
       "      <td>1</td>\n",
       "      <td>0</td>\n",
       "      <td>1</td>\n",
       "      <td>3</td>\n",
       "    </tr>\n",
       "    <tr>\n",
       "      <th>3</th>\n",
       "      <td>0</td>\n",
       "      <td>1</td>\n",
       "      <td>0</td>\n",
       "      <td>0</td>\n",
       "      <td>-413.991405</td>\n",
       "      <td>-159.314686</td>\n",
       "      <td>380.0</td>\n",
       "      <td>494.0</td>\n",
       "      <td>40</td>\n",
       "      <td>7</td>\n",
       "      <td>0</td>\n",
       "      <td>0</td>\n",
       "      <td>1</td>\n",
       "      <td>0</td>\n",
       "      <td>1</td>\n",
       "      <td>4</td>\n",
       "    </tr>\n",
       "    <tr>\n",
       "      <th>4</th>\n",
       "      <td>0</td>\n",
       "      <td>1</td>\n",
       "      <td>0</td>\n",
       "      <td>0</td>\n",
       "      <td>-413.991405</td>\n",
       "      <td>-159.314686</td>\n",
       "      <td>380.0</td>\n",
       "      <td>494.0</td>\n",
       "      <td>40</td>\n",
       "      <td>7</td>\n",
       "      <td>0</td>\n",
       "      <td>0</td>\n",
       "      <td>1</td>\n",
       "      <td>0</td>\n",
       "      <td>1</td>\n",
       "      <td>5</td>\n",
       "    </tr>\n",
       "  </tbody>\n",
       "</table>\n",
       "</div>"
      ],
      "text/plain": [
       "   elapsed_time  event_name  name  level  room_coor_x  room_coor_y  \\\n",
       "0             0           1     0      0  -413.991405  -159.314686   \n",
       "1             0           1     0      0  -413.991405  -159.314686   \n",
       "2             0           1     0      0  -413.991405  -159.314686   \n",
       "3             0           1     0      0  -413.991405  -159.314686   \n",
       "4             0           1     0      0  -413.991405  -159.314686   \n",
       "\n",
       "   screen_coor_x  screen_coor_y  fqid  room_fqid  fullscreen  hq  music  \\\n",
       "0          380.0          494.0    40          7           0   0      1   \n",
       "1          380.0          494.0    40          7           0   0      1   \n",
       "2          380.0          494.0    40          7           0   0      1   \n",
       "3          380.0          494.0    40          7           0   0      1   \n",
       "4          380.0          494.0    40          7           0   0      1   \n",
       "\n",
       "   level_group  correct  q  \n",
       "0            0        1  1  \n",
       "1            0        1  2  \n",
       "2            0        1  3  \n",
       "3            0        1  4  \n",
       "4            0        1  5  "
      ]
     },
     "execution_count": 23,
     "metadata": {},
     "output_type": "execute_result"
    }
   ],
   "source": [
    "datasets.head()"
   ]
  },
  {
   "cell_type": "code",
   "execution_count": 27,
   "id": "80cd6614",
   "metadata": {},
   "outputs": [],
   "source": [
    "#getting columns that have categorical data and numerical data\n",
    "categorical_cols = list(datasets.select_dtypes(include='object'))\n",
    "numerical_cols=list(datasets.select_dtypes(exclude='object'))"
   ]
  },
  {
   "cell_type": "markdown",
   "id": "1f7fd3e7",
   "metadata": {},
   "source": [
    "### Data Visualization"
   ]
  },
  {
   "cell_type": "code",
   "execution_count": 28,
   "id": "97f57ae9",
   "metadata": {},
   "outputs": [
    {
     "data": {
      "image/png": "[encoded data removed]",
      "text/plain": [
       "<Figure size 2000x1000 with 16 Axes>"
      ]
     },
     "metadata": {},
     "output_type": "display_data"
    }
   ],
   "source": [
    "datasets[numerical_cols].plot(\n",
    "    kind='box', \n",
    "    subplots=True, \n",
    "    sharey=False, \n",
    "    figsize=(20, 10)\n",
    ")\n",
    "\n",
    "# increase spacing between subplots\n",
    "plt.subplots_adjust(wspace=1) \n",
    "plt.show()"
   ]
  },
  {
   "cell_type": "code",
   "execution_count": 29,
   "id": "25f2e124",
   "metadata": {},
   "outputs": [
    {
     "data": {
      "image/png": "[encoded data removed]",
      "text/plain": [
       "<Figure size 800x600 with 1 Axes>"
      ]
     },
     "metadata": {},
     "output_type": "display_data"
    }
   ],
   "source": [
    "df = datasets[[\"q\",\"correct\"]]\n",
    "df1= df.groupby(['q','correct']).value_counts()\n",
    "colors = [\"red\", \"green\",]\n",
    "fig, ax = plt.subplots(figsize=(8, 6))\n",
    "ax = df1.plot(kind='bar',width=0.8, color=colors * (len(df.columns) // len(colors) + 1))\n",
    "# ax.patches[0].set_facecolor('red')  # set the color of the first bar to red\n",
    "# ax.patches[1].set_facecolor('green')  # set the color of the second bar to green\n",
    "ax.set_title('Bar Plot', fontsize=18)\n",
    "ax.set_xlabel('X Label', fontsize=14)\n",
    "ax.set_ylabel('Y Label', fontsize=14)\n",
    "\n",
    "# remove unnecessary spines\n",
    "ax.spines['top'].set_visible(False)\n",
    "ax.spines['right'].set_visible(False)\n",
    "\n",
    "# adjust the tick label font size\n",
    "plt.xticks(fontsize=12)\n",
    "plt.yticks(fontsize=12)\n",
    "plt.xticks(rotation=90)\n",
    "plt.show()"
   ]
  },
  {
   "cell_type": "code",
   "execution_count": 30,
   "id": "a5f258c4",
   "metadata": {},
   "outputs": [
    {
     "data": {
      "text/plain": [
       "<AxesSubplot:>"
      ]
     },
     "execution_count": 30,
     "metadata": {},
     "output_type": "execute_result"
    },
    {
     "data": {
      "image/png": "[encoded data removed]",
      "text/plain": [
       "<Figure size 640x480 with 1 Axes>"
      ]
     },
     "metadata": {},
     "output_type": "display_data"
    }
   ],
   "source": [
    "df['correct'].value_counts().plot(kind='bar')"
   ]
  },
  {
   "cell_type": "markdown",
   "id": "5cfdeac6",
   "metadata": {},
   "source": [
    "### Train, Validate, Test data split"
   ]
  },
  {
   "cell_type": "code",
   "execution_count": 31,
   "id": "a662152d",
   "metadata": {},
   "outputs": [],
   "source": [
    "X=datasets.drop('correct',axis=1)\n",
    "X_train_full, X_test, y_train_full, y_test = train_test_split(\n",
    "    X, datasets.correct, random_state=23)\n",
    "X_train, X_valid, y_train, y_valid = train_test_split(\n",
    "    X_train_full, y_train_full, random_state=23)"
   ]
  },
  {
   "cell_type": "code",
   "execution_count": 32,
   "id": "e597664a",
   "metadata": {},
   "outputs": [],
   "source": [
    "#Function To build Input pipeline: Saves chunks of data into 10 or n parts as csv file\n",
    "def save_to_multiple_csv_files(data, name_prefix, header=None, n_parts=10):\n",
    "    housing_dir = os.path.join(\"datasets\", \"files\")\n",
    "    os.makedirs(housing_dir, exist_ok=True)\n",
    "    path_format = os.path.join(housing_dir, \"my_{}_{:02d}.csv\")\n",
    "    filepaths = []\n",
    "    m = len(data)\n",
    "    for file_idx, row_indices in enumerate(np.array_split(np.arange(m), n_parts)):\n",
    "        part_csv = path_format.format(name_prefix, file_idx)\n",
    "        filepaths.append(part_csv)\n",
    "        with open(part_csv, \"wt\", encoding=\"utf-8\") as f:\n",
    "            if header is not None:\n",
    "                f.write(header)\n",
    "                f.write(\"\\n\")\n",
    "            for row_idx in row_indices:\n",
    "                f.write(\",\".join([repr(col) for col in data[row_idx]]))\n",
    "                f.write(\"\\n\")\n",
    "    return filepaths"
   ]
  },
  {
   "cell_type": "code",
   "execution_count": 33,
   "id": "990f411d",
   "metadata": {},
   "outputs": [
    {
     "data": {
      "text/html": [
       "<div>\n",
       "<style scoped>\n",
       "    .dataframe tbody tr th:only-of-type {\n",
       "        vertical-align: middle;\n",
       "    }\n",
       "\n",
       "    .dataframe tbody tr th {\n",
       "        vertical-align: top;\n",
       "    }\n",
       "\n",
       "    .dataframe thead th {\n",
       "        text-align: right;\n",
       "    }\n",
       "</style>\n",
       "<table border=\"1\" class=\"dataframe\">\n",
       "  <thead>\n",
       "    <tr style=\"text-align: right;\">\n",
       "      <th></th>\n",
       "      <th>elapsed_time</th>\n",
       "      <th>event_name</th>\n",
       "      <th>name</th>\n",
       "      <th>level</th>\n",
       "      <th>room_coor_x</th>\n",
       "      <th>room_coor_y</th>\n",
       "      <th>screen_coor_x</th>\n",
       "      <th>screen_coor_y</th>\n",
       "      <th>fqid</th>\n",
       "      <th>room_fqid</th>\n",
       "      <th>fullscreen</th>\n",
       "      <th>hq</th>\n",
       "      <th>music</th>\n",
       "      <th>level_group</th>\n",
       "      <th>q</th>\n",
       "    </tr>\n",
       "  </thead>\n",
       "  <tbody>\n",
       "    <tr>\n",
       "      <th>7020204</th>\n",
       "      <td>2868066</td>\n",
       "      <td>4</td>\n",
       "      <td>5</td>\n",
       "      <td>18</td>\n",
       "      <td>-106.213083</td>\n",
       "      <td>-731.482751</td>\n",
       "      <td>580.0</td>\n",
       "      <td>608.0</td>\n",
       "      <td>123</td>\n",
       "      <td>18</td>\n",
       "      <td>0</td>\n",
       "      <td>0</td>\n",
       "      <td>1</td>\n",
       "      <td>1</td>\n",
       "      <td>7</td>\n",
       "    </tr>\n",
       "    <tr>\n",
       "      <th>1346827</th>\n",
       "      <td>1861531</td>\n",
       "      <td>7</td>\n",
       "      <td>0</td>\n",
       "      <td>15</td>\n",
       "      <td>-267.746834</td>\n",
       "      <td>-375.146135</td>\n",
       "      <td>399.0</td>\n",
       "      <td>560.0</td>\n",
       "      <td>29</td>\n",
       "      <td>11</td>\n",
       "      <td>0</td>\n",
       "      <td>1</td>\n",
       "      <td>1</td>\n",
       "      <td>1</td>\n",
       "      <td>14</td>\n",
       "    </tr>\n",
       "    <tr>\n",
       "      <th>18324232</th>\n",
       "      <td>353205</td>\n",
       "      <td>3</td>\n",
       "      <td>0</td>\n",
       "      <td>9</td>\n",
       "      <td>763.584260</td>\n",
       "      <td>-16.329277</td>\n",
       "      <td>760.0</td>\n",
       "      <td>308.0</td>\n",
       "      <td>120</td>\n",
       "      <td>1</td>\n",
       "      <td>1</td>\n",
       "      <td>0</td>\n",
       "      <td>1</td>\n",
       "      <td>2</td>\n",
       "      <td>17</td>\n",
       "    </tr>\n",
       "    <tr>\n",
       "      <th>13458115</th>\n",
       "      <td>945518</td>\n",
       "      <td>6</td>\n",
       "      <td>0</td>\n",
       "      <td>15</td>\n",
       "      <td>-38.074793</td>\n",
       "      <td>-272.559490</td>\n",
       "      <td>540.0</td>\n",
       "      <td>497.0</td>\n",
       "      <td>29</td>\n",
       "      <td>11</td>\n",
       "      <td>0</td>\n",
       "      <td>0</td>\n",
       "      <td>1</td>\n",
       "      <td>1</td>\n",
       "      <td>2</td>\n",
       "    </tr>\n",
       "    <tr>\n",
       "      <th>3731276</th>\n",
       "      <td>1699010</td>\n",
       "      <td>3</td>\n",
       "      <td>0</td>\n",
       "      <td>20</td>\n",
       "      <td>522.680583</td>\n",
       "      <td>-77.503641</td>\n",
       "      <td>819.0</td>\n",
       "      <td>398.0</td>\n",
       "      <td>113</td>\n",
       "      <td>4</td>\n",
       "      <td>0</td>\n",
       "      <td>0</td>\n",
       "      <td>1</td>\n",
       "      <td>1</td>\n",
       "      <td>3</td>\n",
       "    </tr>\n",
       "    <tr>\n",
       "      <th>...</th>\n",
       "      <td>...</td>\n",
       "      <td>...</td>\n",
       "      <td>...</td>\n",
       "      <td>...</td>\n",
       "      <td>...</td>\n",
       "      <td>...</td>\n",
       "      <td>...</td>\n",
       "      <td>...</td>\n",
       "      <td>...</td>\n",
       "      <td>...</td>\n",
       "      <td>...</td>\n",
       "      <td>...</td>\n",
       "      <td>...</td>\n",
       "      <td>...</td>\n",
       "      <td>...</td>\n",
       "    </tr>\n",
       "    <tr>\n",
       "      <th>21875256</th>\n",
       "      <td>235496</td>\n",
       "      <td>4</td>\n",
       "      <td>5</td>\n",
       "      <td>3</td>\n",
       "      <td>-364.815255</td>\n",
       "      <td>-24.000000</td>\n",
       "      <td>553.0</td>\n",
       "      <td>354.0</td>\n",
       "      <td>119</td>\n",
       "      <td>15</td>\n",
       "      <td>1</td>\n",
       "      <td>0</td>\n",
       "      <td>1</td>\n",
       "      <td>0</td>\n",
       "      <td>1</td>\n",
       "    </tr>\n",
       "    <tr>\n",
       "      <th>2785935</th>\n",
       "      <td>163530</td>\n",
       "      <td>8</td>\n",
       "      <td>5</td>\n",
       "      <td>3</td>\n",
       "      <td>439.769038</td>\n",
       "      <td>-283.000000</td>\n",
       "      <td>450.0</td>\n",
       "      <td>613.0</td>\n",
       "      <td>70</td>\n",
       "      <td>15</td>\n",
       "      <td>0</td>\n",
       "      <td>0</td>\n",
       "      <td>1</td>\n",
       "      <td>0</td>\n",
       "      <td>4</td>\n",
       "    </tr>\n",
       "    <tr>\n",
       "      <th>17451292</th>\n",
       "      <td>7668376</td>\n",
       "      <td>4</td>\n",
       "      <td>5</td>\n",
       "      <td>17</td>\n",
       "      <td>-318.938909</td>\n",
       "      <td>-149.287147</td>\n",
       "      <td>97.0</td>\n",
       "      <td>410.0</td>\n",
       "      <td>99</td>\n",
       "      <td>11</td>\n",
       "      <td>1</td>\n",
       "      <td>1</td>\n",
       "      <td>1</td>\n",
       "      <td>1</td>\n",
       "      <td>5</td>\n",
       "    </tr>\n",
       "    <tr>\n",
       "      <th>14930125</th>\n",
       "      <td>1970968</td>\n",
       "      <td>6</td>\n",
       "      <td>0</td>\n",
       "      <td>21</td>\n",
       "      <td>382.725528</td>\n",
       "      <td>-160.244420</td>\n",
       "      <td>747.0</td>\n",
       "      <td>492.0</td>\n",
       "      <td>51</td>\n",
       "      <td>13</td>\n",
       "      <td>0</td>\n",
       "      <td>1</td>\n",
       "      <td>1</td>\n",
       "      <td>1</td>\n",
       "      <td>8</td>\n",
       "    </tr>\n",
       "    <tr>\n",
       "      <th>13847709</th>\n",
       "      <td>933300</td>\n",
       "      <td>2</td>\n",
       "      <td>5</td>\n",
       "      <td>8</td>\n",
       "      <td>427.633793</td>\n",
       "      <td>57.000000</td>\n",
       "      <td>583.0</td>\n",
       "      <td>273.0</td>\n",
       "      <td>114</td>\n",
       "      <td>14</td>\n",
       "      <td>0</td>\n",
       "      <td>0</td>\n",
       "      <td>1</td>\n",
       "      <td>2</td>\n",
       "      <td>4</td>\n",
       "    </tr>\n",
       "  </tbody>\n",
       "</table>\n",
       "<p>13401996 rows × 15 columns</p>\n",
       "</div>"
      ],
      "text/plain": [
       "          elapsed_time  event_name  name  level  room_coor_x  room_coor_y  \\\n",
       "7020204        2868066           4     5     18  -106.213083  -731.482751   \n",
       "1346827        1861531           7     0     15  -267.746834  -375.146135   \n",
       "18324232        353205           3     0      9   763.584260   -16.329277   \n",
       "13458115        945518           6     0     15   -38.074793  -272.559490   \n",
       "3731276        1699010           3     0     20   522.680583   -77.503641   \n",
       "...                ...         ...   ...    ...          ...          ...   \n",
       "21875256        235496           4     5      3  -364.815255   -24.000000   \n",
       "2785935         163530           8     5      3   439.769038  -283.000000   \n",
       "17451292       7668376           4     5     17  -318.938909  -149.287147   \n",
       "14930125       1970968           6     0     21   382.725528  -160.244420   \n",
       "13847709        933300           2     5      8   427.633793    57.000000   \n",
       "\n",
       "          screen_coor_x  screen_coor_y  fqid  room_fqid  fullscreen  hq  \\\n",
       "7020204           580.0          608.0   123         18           0   0   \n",
       "1346827           399.0          560.0    29         11           0   1   \n",
       "18324232          760.0          308.0   120          1           1   0   \n",
       "13458115          540.0          497.0    29         11           0   0   \n",
       "3731276           819.0          398.0   113          4           0   0   \n",
       "...                 ...            ...   ...        ...         ...  ..   \n",
       "21875256          553.0          354.0   119         15           1   0   \n",
       "2785935           450.0          613.0    70         15           0   0   \n",
       "17451292           97.0          410.0    99         11           1   1   \n",
       "14930125          747.0          492.0    51         13           0   1   \n",
       "13847709          583.0          273.0   114         14           0   0   \n",
       "\n",
       "          music  level_group   q  \n",
       "7020204       1            1   7  \n",
       "1346827       1            1  14  \n",
       "18324232      1            2  17  \n",
       "13458115      1            1   2  \n",
       "3731276       1            1   3  \n",
       "...         ...          ...  ..  \n",
       "21875256      1            0   1  \n",
       "2785935       1            0   4  \n",
       "17451292      1            1   5  \n",
       "14930125      1            1   8  \n",
       "13847709      1            2   4  \n",
       "\n",
       "[13401996 rows x 15 columns]"
      ]
     },
     "execution_count": 33,
     "metadata": {},
     "output_type": "execute_result"
    }
   ],
   "source": [
    "X_train"
   ]
  },
  {
   "cell_type": "code",
   "execution_count": 34,
   "id": "0ba2f5e4",
   "metadata": {},
   "outputs": [
    {
     "data": {
      "text/plain": [
       "7020204     0\n",
       "1346827     0\n",
       "18324232    1\n",
       "13458115    1\n",
       "3731276     1\n",
       "           ..\n",
       "21875256    0\n",
       "2785935     1\n",
       "17451292    1\n",
       "14930125    1\n",
       "13847709    1\n",
       "Name: correct, Length: 13401996, dtype: int64"
      ]
     },
     "execution_count": 34,
     "metadata": {},
     "output_type": "execute_result"
    }
   ],
   "source": [
    "y_train"
   ]
  },
  {
   "cell_type": "code",
   "execution_count": 35,
   "id": "9ebf9f98",
   "metadata": {},
   "outputs": [],
   "source": [
    "#Saving the data into N parts\n",
    "train_data = np.c_[X_train, y_train]\n",
    "valid_data = np.c_[X_valid, y_valid]\n",
    "test_data = np.c_[X_test, y_test]\n",
    "header_cols = ['elapsed_time', 'event_name', 'name', 'level', 'room_coor_x',\n",
    "       'room_coor_y', 'screen_coor_x', 'screen_coor_y', 'fqid', 'room_fqid',\n",
    "       'fullscreen', 'hq', 'music', 'level_group', 'q','correct']\n",
    "\n",
    "header = \",\".join(header_cols)\n",
    "\n",
    "train_filepaths = save_to_multiple_csv_files(train_data, \"train\", header, n_parts=20)\n",
    "valid_filepaths = save_to_multiple_csv_files(valid_data, \"valid\", header, n_parts=10)\n",
    "test_filepaths = save_to_multiple_csv_files(test_data, \"test\", header, n_parts=10)"
   ]
  },
  {
   "cell_type": "code",
   "execution_count": 36,
   "id": "259e224a",
   "metadata": {},
   "outputs": [
    {
     "data": {
      "text/html": [
       "<div>\n",
       "<style scoped>\n",
       "    .dataframe tbody tr th:only-of-type {\n",
       "        vertical-align: middle;\n",
       "    }\n",
       "\n",
       "    .dataframe tbody tr th {\n",
       "        vertical-align: top;\n",
       "    }\n",
       "\n",
       "    .dataframe thead th {\n",
       "        text-align: right;\n",
       "    }\n",
       "</style>\n",
       "<table border=\"1\" class=\"dataframe\">\n",
       "  <thead>\n",
       "    <tr style=\"text-align: right;\">\n",
       "      <th></th>\n",
       "      <th>elapsed_time</th>\n",
       "      <th>event_name</th>\n",
       "      <th>name</th>\n",
       "      <th>level</th>\n",
       "      <th>room_coor_x</th>\n",
       "      <th>room_coor_y</th>\n",
       "      <th>screen_coor_x</th>\n",
       "      <th>screen_coor_y</th>\n",
       "      <th>fqid</th>\n",
       "      <th>room_fqid</th>\n",
       "      <th>fullscreen</th>\n",
       "      <th>hq</th>\n",
       "      <th>music</th>\n",
       "      <th>level_group</th>\n",
       "      <th>q</th>\n",
       "      <th>correct</th>\n",
       "    </tr>\n",
       "  </thead>\n",
       "  <tbody>\n",
       "    <tr>\n",
       "      <th>0</th>\n",
       "      <td>605983.0</td>\n",
       "      <td>9.0</td>\n",
       "      <td>0.0</td>\n",
       "      <td>6.0</td>\n",
       "      <td>-42.057065</td>\n",
       "      <td>48.000000</td>\n",
       "      <td>299.0</td>\n",
       "      <td>282.0</td>\n",
       "      <td>64.0</td>\n",
       "      <td>12.0</td>\n",
       "      <td>0.0</td>\n",
       "      <td>0.0</td>\n",
       "      <td>1.0</td>\n",
       "      <td>2.0</td>\n",
       "      <td>6.0</td>\n",
       "      <td>0.0</td>\n",
       "    </tr>\n",
       "    <tr>\n",
       "      <th>1</th>\n",
       "      <td>9168673.0</td>\n",
       "      <td>4.0</td>\n",
       "      <td>5.0</td>\n",
       "      <td>7.0</td>\n",
       "      <td>-64.348501</td>\n",
       "      <td>118.000000</td>\n",
       "      <td>344.0</td>\n",
       "      <td>212.0</td>\n",
       "      <td>0.0</td>\n",
       "      <td>12.0</td>\n",
       "      <td>0.0</td>\n",
       "      <td>0.0</td>\n",
       "      <td>1.0</td>\n",
       "      <td>2.0</td>\n",
       "      <td>14.0</td>\n",
       "      <td>1.0</td>\n",
       "    </tr>\n",
       "    <tr>\n",
       "      <th>2</th>\n",
       "      <td>1300958.0</td>\n",
       "      <td>1.0</td>\n",
       "      <td>0.0</td>\n",
       "      <td>16.0</td>\n",
       "      <td>-998.089825</td>\n",
       "      <td>-294.079310</td>\n",
       "      <td>369.0</td>\n",
       "      <td>589.0</td>\n",
       "      <td>25.0</td>\n",
       "      <td>6.0</td>\n",
       "      <td>0.0</td>\n",
       "      <td>0.0</td>\n",
       "      <td>1.0</td>\n",
       "      <td>1.0</td>\n",
       "      <td>8.0</td>\n",
       "      <td>1.0</td>\n",
       "    </tr>\n",
       "    <tr>\n",
       "      <th>3</th>\n",
       "      <td>258685.0</td>\n",
       "      <td>10.0</td>\n",
       "      <td>0.0</td>\n",
       "      <td>6.0</td>\n",
       "      <td>-433.583562</td>\n",
       "      <td>-130.163035</td>\n",
       "      <td>490.0</td>\n",
       "      <td>427.0</td>\n",
       "      <td>37.0</td>\n",
       "      <td>8.0</td>\n",
       "      <td>0.0</td>\n",
       "      <td>0.0</td>\n",
       "      <td>1.0</td>\n",
       "      <td>2.0</td>\n",
       "      <td>8.0</td>\n",
       "      <td>0.0</td>\n",
       "    </tr>\n",
       "    <tr>\n",
       "      <th>4</th>\n",
       "      <td>2776147.0</td>\n",
       "      <td>4.0</td>\n",
       "      <td>5.0</td>\n",
       "      <td>20.0</td>\n",
       "      <td>-72.214983</td>\n",
       "      <td>-245.560821</td>\n",
       "      <td>384.0</td>\n",
       "      <td>499.0</td>\n",
       "      <td>98.0</td>\n",
       "      <td>10.0</td>\n",
       "      <td>1.0</td>\n",
       "      <td>0.0</td>\n",
       "      <td>1.0</td>\n",
       "      <td>1.0</td>\n",
       "      <td>12.0</td>\n",
       "      <td>1.0</td>\n",
       "    </tr>\n",
       "  </tbody>\n",
       "</table>\n",
       "</div>"
      ],
      "text/plain": [
       "   elapsed_time  event_name  name  level  room_coor_x  room_coor_y  \\\n",
       "0      605983.0         9.0   0.0    6.0   -42.057065    48.000000   \n",
       "1     9168673.0         4.0   5.0    7.0   -64.348501   118.000000   \n",
       "2     1300958.0         1.0   0.0   16.0  -998.089825  -294.079310   \n",
       "3      258685.0        10.0   0.0    6.0  -433.583562  -130.163035   \n",
       "4     2776147.0         4.0   5.0   20.0   -72.214983  -245.560821   \n",
       "\n",
       "   screen_coor_x  screen_coor_y  fqid  room_fqid  fullscreen   hq  music  \\\n",
       "0          299.0          282.0  64.0       12.0         0.0  0.0    1.0   \n",
       "1          344.0          212.0   0.0       12.0         0.0  0.0    1.0   \n",
       "2          369.0          589.0  25.0        6.0         0.0  0.0    1.0   \n",
       "3          490.0          427.0  37.0        8.0         0.0  0.0    1.0   \n",
       "4          384.0          499.0  98.0       10.0         1.0  0.0    1.0   \n",
       "\n",
       "   level_group     q  correct  \n",
       "0          2.0   6.0      0.0  \n",
       "1          2.0  14.0      1.0  \n",
       "2          1.0   8.0      1.0  \n",
       "3          2.0   8.0      0.0  \n",
       "4          1.0  12.0      1.0  "
      ]
     },
     "execution_count": 36,
     "metadata": {},
     "output_type": "execute_result"
    }
   ],
   "source": [
    "pd.read_csv(test_filepaths[1]).head()"
   ]
  },
  {
   "cell_type": "code",
   "execution_count": 37,
   "id": "dd1a3543",
   "metadata": {},
   "outputs": [],
   "source": [
    "def csv_reader_dataset(filepaths, repeat=1, n_readers=5, \n",
    "                       n_read_threads=None, shuffle_buffer_size=10000,\n",
    "                       n_parse_threads=5, batch_size=32):\n",
    "    dataset = tf.data.Dataset.list_files(filepaths).repeat(repeat)\n",
    "    dataset = dataset.interleave(\n",
    "        lambda filepath: tf.data.TextLineDataset(filepath).skip(1), \n",
    "        cycle_length=n_readers,\n",
    "        num_parallel_calls=n_read_threads)\n",
    "    \n",
    "    dataset = dataset.shuffle(shuffle_buffer_size)\n",
    "    dataset = dataset.batch(batch_size) \n",
    "    \n",
    "    return dataset.prefetch(1)"
   ]
  },
  {
   "cell_type": "code",
   "execution_count": 38,
   "id": "9d850b32",
   "metadata": {},
   "outputs": [
    {
     "name": "stdout",
     "output_type": "stream",
     "text": [
      "WARNING:tensorflow:From C:\\Users\\kavya\\anaconda3\\lib\\site-packages\\tensorflow\\python\\autograph\\pyct\\static_analysis\\liveness.py:83: Analyzer.lamba_check (from tensorflow.python.autograph.pyct.static_analysis.liveness) is deprecated and will be removed after 2023-09-23.\n",
      "Instructions for updating:\n",
      "Lambda fuctions will be no more assumed to be used in the statement where they are used, or at least in the same block. https://github.com/tensorflow/tensorflow/issues/56089\n"
     ]
    }
   ],
   "source": [
    "train_set = csv_reader_dataset(train_filepaths, repeat=None)\n",
    "valid_set = csv_reader_dataset(valid_filepaths)\n",
    "test_set = csv_reader_dataset(test_filepaths)"
   ]
  },
  {
   "cell_type": "code",
   "execution_count": 39,
   "id": "b0b329cc",
   "metadata": {},
   "outputs": [
    {
     "data": {
      "text/plain": [
       "(13401996, 15)"
      ]
     },
     "execution_count": 39,
     "metadata": {},
     "output_type": "execute_result"
    }
   ],
   "source": [
    "X_train.shape"
   ]
  },
  {
   "cell_type": "code",
   "execution_count": 40,
   "id": "36d2f42a",
   "metadata": {},
   "outputs": [],
   "source": [
    "# create a scaler object\n",
    "scaler = StandardScaler()\n",
    "\n",
    "# fit the scaler to the data\n",
    "scaler.fit(X_train)\n",
    "\n",
    "# apply the scaler to the data\n",
    "X_train = scaler.transform(X_train)\n",
    "X_valid = scaler.transform(X_valid)\n",
    "X_test = scaler.transform(X_test)"
   ]
  },
  {
   "cell_type": "code",
   "execution_count": 41,
   "id": "04f10ff5",
   "metadata": {},
   "outputs": [],
   "source": [
    "num_features=15\n",
    "batch_size=32"
   ]
  },
  {
   "cell_type": "code",
   "execution_count": 42,
   "id": "1c4e3a41",
   "metadata": {},
   "outputs": [],
   "source": [
    "keras.backend.clear_session()\n",
    "np.random.seed(23)\n",
    "tf.random.set_seed(23)"
   ]
  },
  {
   "cell_type": "markdown",
   "id": "46748c35",
   "metadata": {},
   "source": [
    "## Baseline models\n",
    "Even Though Data given is Time Series, But in the end we have to predict if the students(Session_id) answered the 18 questions Correctly or not. Hence it becomes a Classification problem and not time series problem\n",
    "<br>Hence, I have Built 3 Baseline models:<br>\n",
    "<ol>1. Multi Layered Pereceptron (MLP) </ol>\n",
    "<ol>2. Convolution Neural Network (CNN)</ol>\n",
    "<ol>3. Recurrent Neural network (RNN)</ol>"
   ]
  },
  {
   "cell_type": "code",
   "execution_count": 43,
   "id": "fa2dbcc5",
   "metadata": {},
   "outputs": [],
   "source": [
    "#Since target 1(answered correct) is Almost twice of target 0(answered Incorrect), \n",
    "#Due to imbalace In dataset we are using F1 Score\n",
    "def f1(y_true, y_pred):\n",
    "    y_true = tf.cast(y_true, tf.float32)\n",
    "    y_pred = tf.cast(tf.round(y_pred), tf.float32)\n",
    "    return tf.py_function(f1_score, (y_true, y_pred), tf.float32)"
   ]
  },
  {
   "cell_type": "code",
   "execution_count": 44,
   "id": "2bcbb390",
   "metadata": {},
   "outputs": [
    {
     "name": "stdout",
     "output_type": "stream",
     "text": [
      "Epoch 1/5\n",
      "26176/26176 [==============================] - 66s 2ms/step - loss: 0.5580 - accuracy: 0.6997 - f1: 0.7986 - val_loss: 0.5510 - val_accuracy: 0.7054 - val_f1: 0.7963\n",
      "Epoch 2/5\n",
      "26176/26176 [==============================] - 62s 2ms/step - loss: 0.5480 - accuracy: 0.7085 - f1: 0.8022 - val_loss: 0.5457 - val_accuracy: 0.7099 - val_f1: 0.8018\n",
      "Epoch 3/5\n",
      "26176/26176 [==============================] - 63s 2ms/step - loss: 0.5461 - accuracy: 0.7104 - f1: 0.8021 - val_loss: 0.5447 - val_accuracy: 0.7111 - val_f1: 0.8001\n",
      "Epoch 4/5\n",
      "26176/26176 [==============================] - 64s 2ms/step - loss: 0.5452 - accuracy: 0.7113 - f1: 0.8025 - val_loss: 0.5452 - val_accuracy: 0.7103 - val_f1: 0.7969\n",
      "Epoch 5/5\n",
      "26176/26176 [==============================] - 70s 3ms/step - loss: 0.5447 - accuracy: 0.7118 - f1: 0.8028 - val_loss: 0.5442 - val_accuracy: 0.7114 - val_f1: 0.7996\n"
     ]
    }
   ],
   "source": [
    "#mlp model\n",
    "mlp_model = keras.Sequential([\n",
    "    keras.layers.Dense(64, activation='relu', input_shape=(num_features,)),\n",
    "    keras.layers.Dense(32, activation='relu'),\n",
    "    keras.layers.Dense(1, activation='sigmoid')\n",
    "])\n",
    "optimizer = keras.optimizers.Adam(learning_rate=0.01)\n",
    "mlp_model.compile(optimizer=optimizer, loss='binary_crossentropy', metrics=['accuracy',f1])\n",
    "\n",
    "mlp_history = mlp_model.fit(X_train,y_train, \n",
    "                    validation_data=(X_valid,y_valid),\n",
    "                    epochs=5, batch_size=512)"
   ]
  },
  {
   "cell_type": "code",
   "execution_count": 45,
   "id": "2f6d861f",
   "metadata": {},
   "outputs": [
    {
     "name": "stdout",
     "output_type": "stream",
     "text": [
      "186139/186139 [==============================] - 262s 1ms/step - loss: 0.5443 - accuracy: 0.7110 - f1: 0.7959\n"
     ]
    },
    {
     "data": {
      "text/plain": [
       "[0.5443128347396851, 0.7110047340393066, 0.7958606481552124]"
      ]
     },
     "execution_count": 45,
     "metadata": {},
     "output_type": "execute_result"
    }
   ],
   "source": [
    "mlp_model.evaluate(X_test,y_test)"
   ]
  },
  {
   "cell_type": "code",
   "execution_count": 19,
   "id": "9d87a3a6",
   "metadata": {},
   "outputs": [
    {
     "name": "stdout",
     "output_type": "stream",
     "text": [
      "Epoch 1/5\n",
      "26176/26176 [==============================] - 95s 4ms/step - loss: 50.8693 - accuracy: 0.6570 - f1: 0.7875 - val_loss: 0.6408 - val_accuracy: 0.6604 - val_f1: 0.7953\n",
      "Epoch 2/5\n",
      "26176/26176 [==============================] - 97s 4ms/step - loss: 8.3830 - accuracy: 0.6601 - f1: 0.7948 - val_loss: 0.6407 - val_accuracy: 0.6604 - val_f1: 0.7953\n",
      "Epoch 3/5\n",
      "26176/26176 [==============================] - 101s 4ms/step - loss: 0.6408 - accuracy: 0.6604 - f1: 0.7953 - val_loss: 0.6407 - val_accuracy: 0.6604 - val_f1: 0.7953\n",
      "Epoch 4/5\n",
      "26176/26176 [==============================] - 110s 4ms/step - loss: 0.6408 - accuracy: 0.6604 - f1: 0.7953 - val_loss: 0.6408 - val_accuracy: 0.6604 - val_f1: 0.7953\n",
      "Epoch 5/5\n",
      "26176/26176 [==============================] - 120s 5ms/step - loss: 0.6408 - accuracy: 0.6604 - f1: 0.7953 - val_loss: 0.6409 - val_accuracy: 0.6604 - val_f1: 0.7953\n"
     ]
    }
   ],
   "source": [
    "#CNN model\n",
    "cnn_model = keras.Sequential([\n",
    "    keras.layers.Reshape((num_features, 1), input_shape=(num_features,)),\n",
    "    keras.layers.Conv1D(filters=32, kernel_size=3, padding='same', activation='relu'),\n",
    "    keras.layers.MaxPooling1D(pool_size=2),\n",
    "    keras.layers.Flatten(),\n",
    "    keras.layers.Dense(64, activation='relu'),\n",
    "    keras.layers.Dense(1, activation='sigmoid')\n",
    "])\n",
    "\n",
    "# Compile the model\n",
    "optimizer = keras.optimizers.Adam(learning_rate=0.01)\n",
    "cnn_model.compile(optimizer=optimizer, loss='binary_crossentropy', metrics=['accuracy',f1])\n",
    "\n",
    "# Train the model\n",
    "cnn_history=cnn_model.fit(X_train, y_train, epochs=5, batch_size=512, validation_data=(X_valid, y_valid))"
   ]
  },
  {
   "cell_type": "code",
   "execution_count": 20,
   "id": "cd12be4b",
   "metadata": {},
   "outputs": [
    {
     "name": "stdout",
     "output_type": "stream",
     "text": [
      "186139/186139 [==============================] - 262s 1ms/step - loss: 0.6409 - accuracy: 0.6603 - f1: 0.7918\n"
     ]
    },
    {
     "data": {
      "text/plain": [
       "[0.6408503651618958, 0.6602999567985535, 0.7917505502700806]"
      ]
     },
     "execution_count": 20,
     "metadata": {},
     "output_type": "execute_result"
    }
   ],
   "source": [
    "cnn_model.evaluate(X_test,y_test)"
   ]
  },
  {
   "cell_type": "code",
   "execution_count": 21,
   "id": "76794fa0",
   "metadata": {},
   "outputs": [
    {
     "name": "stdout",
     "output_type": "stream",
     "text": [
      "Epoch 1/5\n",
      "26176/26176 [==============================] - 69s 3ms/step - loss: 358.9131 - binary_accuracy: 0.6450 - f1: 0.7591 - val_loss: 0.6408 - val_binary_accuracy: 0.6604 - val_f1: 0.7953\n",
      "Epoch 2/5\n",
      "26176/26176 [==============================] - 67s 3ms/step - loss: 0.6711 - binary_accuracy: 0.6604 - f1: 0.7953 - val_loss: 0.6407 - val_binary_accuracy: 0.6604 - val_f1: 0.7953\n",
      "Epoch 3/5\n",
      "26176/26176 [==============================] - 71s 3ms/step - loss: 0.6408 - binary_accuracy: 0.6604 - f1: 0.7953 - val_loss: 0.6407 - val_binary_accuracy: 0.6604 - val_f1: 0.7953\n",
      "Epoch 4/5\n",
      "26176/26176 [==============================] - 71s 3ms/step - loss: 0.6408 - binary_accuracy: 0.6604 - f1: 0.7953 - val_loss: 0.6408 - val_binary_accuracy: 0.6604 - val_f1: 0.7953\n",
      "Epoch 5/5\n",
      "26176/26176 [==============================] - 71s 3ms/step - loss: 0.6408 - binary_accuracy: 0.6604 - f1: 0.7953 - val_loss: 0.6409 - val_binary_accuracy: 0.6604 - val_f1: 0.7953\n"
     ]
    }
   ],
   "source": [
    "#RNN model\n",
    "rnn_model = tf.keras.Sequential([\n",
    "    tf.keras.layers.Input(shape=(num_features)),\n",
    "     tf.keras.layers.Reshape((-1, num_features)),\n",
    "    tf.keras.layers.SimpleRNN(units=64, activation='relu'),\n",
    "    tf.keras.layers.Dense(units=1, activation='sigmoid')])\n",
    "    \n",
    "rnn_model.compile(optimizer=tf.keras.optimizers.Adam(learning_rate=0.01),\n",
    "              loss=tf.keras.losses.BinaryCrossentropy(),\n",
    "              metrics=[tf.keras.metrics.BinaryAccuracy(),f1])\n",
    "\n",
    "rnn_history=rnn_model.fit(X_train, y_train, epochs=5, batch_size=512, validation_data=(X_valid, y_valid))"
   ]
  },
  {
   "cell_type": "code",
   "execution_count": 22,
   "id": "d4f4ec3d",
   "metadata": {},
   "outputs": [
    {
     "name": "stdout",
     "output_type": "stream",
     "text": [
      "186139/186139 [==============================] - 256s 1ms/step - loss: 0.6409 - binary_accuracy: 0.6603 - f1: 0.7918\n"
     ]
    },
    {
     "data": {
      "text/plain": [
       "[0.6408503651618958, 0.6602999567985535, 0.7917505502700806]"
      ]
     },
     "execution_count": 22,
     "metadata": {},
     "output_type": "execute_result"
    }
   ],
   "source": [
    "rnn_model.evaluate(X_test,y_test)"
   ]
  },
  {
   "cell_type": "markdown",
   "id": "086feb59",
   "metadata": {},
   "source": [
    "## Evaluation of 3 models:\n",
    "<table border=1>\n",
    "    <tr><th>Model</th><th>Accuracy</th><th>F1 Score</th></tr>\n",
    "    <tr><th>MLP</th><td>0.6602999567985535</td><td>0.7917505502700806</td></tr>\n",
    "    <tr><th>CNN</th><td>0.6602999567985535</td><td>0.7917505502700806</td></tr>\n",
    "    <tr><th>RNN</th><td>0.6602999567985535</td><td>0.7917505502700806</td></tr>"
   ]
  },
  {
   "cell_type": "code",
   "execution_count": 5,
   "id": "8bb8483c",
   "metadata": {},
   "outputs": [
    {
     "data": {
      "text/plain": [
       "0    8092045\n",
       "1    8092045\n",
       "Name: correct, dtype: int64"
      ]
     },
     "execution_count": 5,
     "metadata": {},
     "output_type": "execute_result"
    }
   ],
   "source": [
    "class_count=datasets['correct'].value_counts()\n",
    "\n",
    "minority_class = class_count.idxmin()\n",
    "minority_class_count = class_count[minority_class]\n",
    "\n",
    "majority_class = class_count.idxmax()\n",
    "majority_class_count = class_count[majority_class]\n",
    "# Sample the majority class to match the minority class count\n",
    "majority_class_samples = datasets[datasets['correct'] == majority_class].sample(minority_class_count)\n",
    "\n",
    "# Combine the minority class with the sampled majority class\n",
    "balanced_df = pd.concat([datasets[datasets['correct'] == minority_class], majority_class_samples])\n",
    "\n",
    "balanced_df['correct'].value_counts()"
   ]
  },
  {
   "cell_type": "markdown",
   "id": "2c086a13",
   "metadata": {},
   "source": [
    "##### Since all the models are giving same accuracy, To select the features again, we are using Decision Tree Regressor"
   ]
  },
  {
   "cell_type": "code",
   "execution_count": 6,
   "id": "2600caf2",
   "metadata": {},
   "outputs": [
    {
     "data": {
      "text/plain": [
       "(23825772, 16)"
      ]
     },
     "execution_count": 6,
     "metadata": {},
     "output_type": "execute_result"
    }
   ],
   "source": [
    "datasets.shape"
   ]
  },
  {
   "cell_type": "code",
   "execution_count": 27,
   "id": "2bb50fff",
   "metadata": {},
   "outputs": [],
   "source": [
    "X=datasets.drop('correct',axis=1)\n",
    "Y=datasets['correct']"
   ]
  },
  {
   "cell_type": "code",
   "execution_count": 8,
   "id": "9b4c480c",
   "metadata": {},
   "outputs": [
    {
     "data": {
      "text/plain": [
       "[('level_group', 0.002702983601203737),\n",
       " ('name', 0.003945690972200366),\n",
       " ('music', 0.010606844961929202),\n",
       " ('event_name', 0.011846876783843757),\n",
       " ('hq', 0.012172529446033855),\n",
       " ('fullscreen', 0.012266528442091024),\n",
       " ('room_fqid', 0.02249729847210044),\n",
       " ('fqid', 0.03214879173445342),\n",
       " ('level', 0.04367889174073267),\n",
       " ('screen_coor_y', 0.096227740214029),\n",
       " ('room_coor_y', 0.10419548576585934),\n",
       " ('room_coor_x', 0.11138880816437771),\n",
       " ('screen_coor_x', 0.12184128519226),\n",
       " ('correct', 0.17721693395619592),\n",
       " ('elapsed_time', 0.2372633105526897)]"
      ]
     },
     "execution_count": 8,
     "metadata": {},
     "output_type": "execute_result"
    }
   ],
   "source": [
    "#using descision tree regressor to get the columns which impact the target variable most\n",
    "dr=DecisionTreeRegressor()\n",
    "dr.fit(X,Y)\n",
    "zipped=list(zip(datasets.columns, dr.feature_importances_))\n",
    "features_sorted=sorted(zipped, key=lambda x: x[1])\n",
    "features_sorted"
   ]
  },
  {
   "cell_type": "code",
   "execution_count": 20,
   "id": "a462a4d0",
   "metadata": {},
   "outputs": [],
   "source": [
    "### here we are selecting top 10 features based on the feature importance\n",
    "cols=['elapsed_time',\"screen_coor_x\",\"room_coor_x\",'room_coor_y','screen_coor_y','level','fqid','hq','fullscreen','event_name']\n",
    "X=X[cols]"
   ]
  },
  {
   "cell_type": "code",
   "execution_count": 28,
   "id": "849b1ad4",
   "metadata": {},
   "outputs": [],
   "source": [
    "X_train_full, X_test, y_train_full, y_test = train_test_split(\n",
    "    X, Y, random_state=23)\n",
    "X_train, X_valid, y_train, y_valid = train_test_split(\n",
    "    X_train_full, y_train_full, random_state=23)"
   ]
  },
  {
   "cell_type": "code",
   "execution_count": 30,
   "id": "1c0e1f9b",
   "metadata": {},
   "outputs": [],
   "source": [
    "def exponential_decay(lr0, s):\n",
    "    def exponential_decay_fn(epoch):\n",
    "        return lr0 * 0.1**(epoch / s)\n",
    "    return exponential_decay_fn\n",
    "\n",
    "exponential_decay_fn = exponential_decay(lr0=0.01, s=20)"
   ]
  },
  {
   "cell_type": "code",
   "execution_count": 34,
   "id": "fcc755a2",
   "metadata": {},
   "outputs": [],
   "source": [
    "#Since all 3 models gave the same accuracy, im trying to improve MLP model by adding more layers, neurons, exponential decay\n",
    "model= keras.Sequential([\n",
    "    keras.layers.Dense(512, activation='relu', input_shape=(15,)),\n",
    "    keras.layers.Dropout(0.2),\n",
    "    keras.layers.BatchNormalization(),\n",
    "    keras.layers.Dense(256, activation='relu',kernel_initializer=\"he_normal\"),\n",
    "    keras.layers.Dropout(0.2),\n",
    "    keras.layers.BatchNormalization(),\n",
    "    keras.layers.Dense(128, activation='relu',kernel_initializer=\"he_normal\"),\n",
    "    keras.layers.Dropout(0.2),\n",
    "    keras.layers.BatchNormalization(),\n",
    "    keras.layers.Dense(64, activation='relu',kernel_initializer=\"he_normal\"),\n",
    "    keras.layers.Dropout(0.2),\n",
    "    keras.layers.BatchNormalization(),\n",
    "    keras.layers.Dense(32, activation='relu',kernel_initializer=\"he_normal\"),\n",
    "    keras.layers.Dropout(0.2),\n",
    "    keras.layers.BatchNormalization(),\n",
    "    keras.layers.Dense(16, activation='relu',kernel_initializer=\"he_normal\"),\n",
    "    keras.layers.Dropout(0.2),\n",
    "    keras.layers.BatchNormalization(),\n",
    "    keras.layers.Dense(1, activation='sigmoid')])"
   ]
  },
  {
   "cell_type": "code",
   "execution_count": 35,
   "id": "ca2049e4",
   "metadata": {},
   "outputs": [
    {
     "name": "stdout",
     "output_type": "stream",
     "text": [
      "Model: \"sequential_4\"\n",
      "_________________________________________________________________\n",
      " Layer (type)                Output Shape              Param #   \n",
      "=================================================================\n",
      " dense_28 (Dense)            (None, 512)               8192      \n",
      "                                                                 \n",
      " dropout_24 (Dropout)        (None, 512)               0         \n",
      "                                                                 \n",
      " batch_normalization_24 (Bat  (None, 512)              2048      \n",
      " chNormalization)                                                \n",
      "                                                                 \n",
      " dense_29 (Dense)            (None, 256)               131328    \n",
      "                                                                 \n",
      " dropout_25 (Dropout)        (None, 256)               0         \n",
      "                                                                 \n",
      " batch_normalization_25 (Bat  (None, 256)              1024      \n",
      " chNormalization)                                                \n",
      "                                                                 \n",
      " dense_30 (Dense)            (None, 128)               32896     \n",
      "                                                                 \n",
      " dropout_26 (Dropout)        (None, 128)               0         \n",
      "                                                                 \n",
      " batch_normalization_26 (Bat  (None, 128)              512       \n",
      " chNormalization)                                                \n",
      "                                                                 \n",
      " dense_31 (Dense)            (None, 64)                8256      \n",
      "                                                                 \n",
      " dropout_27 (Dropout)        (None, 64)                0         \n",
      "                                                                 \n",
      " batch_normalization_27 (Bat  (None, 64)               256       \n",
      " chNormalization)                                                \n",
      "                                                                 \n",
      " dense_32 (Dense)            (None, 32)                2080      \n",
      "                                                                 \n",
      " dropout_28 (Dropout)        (None, 32)                0         \n",
      "                                                                 \n",
      " batch_normalization_28 (Bat  (None, 32)               128       \n",
      " chNormalization)                                                \n",
      "                                                                 \n",
      " dense_33 (Dense)            (None, 16)                528       \n",
      "                                                                 \n",
      " dropout_29 (Dropout)        (None, 16)                0         \n",
      "                                                                 \n",
      " batch_normalization_29 (Bat  (None, 16)               64        \n",
      " chNormalization)                                                \n",
      "                                                                 \n",
      " dense_34 (Dense)            (None, 1)                 17        \n",
      "                                                                 \n",
      "=================================================================\n",
      "Total params: 187,329\n",
      "Trainable params: 185,313\n",
      "Non-trainable params: 2,016\n",
      "_________________________________________________________________\n"
     ]
    }
   ],
   "source": [
    "model.summary()"
   ]
  },
  {
   "cell_type": "code",
   "execution_count": 41,
   "id": "938bc010",
   "metadata": {},
   "outputs": [
    {
     "name": "stdout",
     "output_type": "stream",
     "text": [
      "Epoch 1/10\n",
      "26176/26176 [==============================] - 716s 27ms/step - loss: 0.5402 - accuracy: 0.7152 - f1: 0.8066 - val_loss: 0.5316 - val_accuracy: 0.7189 - val_f1: 0.8098\n",
      "Epoch 2/10\n",
      "26176/26176 [==============================] - 589s 22ms/step - loss: 0.5391 - accuracy: 0.7157 - f1: 0.8069 - val_loss: 0.5305 - val_accuracy: 0.7202 - val_f1: 0.8099\n",
      "Epoch 3/10\n",
      "26176/26176 [==============================] - 624s 24ms/step - loss: 0.5379 - accuracy: 0.7167 - f1: 0.8072 - val_loss: 0.5310 - val_accuracy: 0.7212 - val_f1: 0.8077\n",
      "Epoch 4/10\n",
      "26176/26176 [==============================] - 640s 24ms/step - loss: 0.5369 - accuracy: 0.7171 - f1: 0.8073 - val_loss: 0.5277 - val_accuracy: 0.7217 - val_f1: 0.8111\n",
      "Epoch 5/10\n",
      "26176/26176 [==============================] - 616s 24ms/step - loss: 0.5362 - accuracy: 0.7175 - f1: 0.8075 - val_loss: 0.5266 - val_accuracy: 0.7225 - val_f1: 0.8106\n",
      "Epoch 6/10\n",
      "26176/26176 [==============================] - 652s 25ms/step - loss: 0.5353 - accuracy: 0.7180 - f1: 0.8078 - val_loss: 0.5258 - val_accuracy: 0.7232 - val_f1: 0.8093\n",
      "Epoch 7/10\n",
      "26176/26176 [==============================] - 683s 26ms/step - loss: 0.5347 - accuracy: 0.7184 - f1: 0.8079 - val_loss: 0.5242 - val_accuracy: 0.7233 - val_f1: 0.8057\n",
      "Epoch 8/10\n",
      "26176/26176 [==============================] - 722s 28ms/step - loss: 0.5342 - accuracy: 0.7187 - f1: 0.8081 - val_loss: 0.5255 - val_accuracy: 0.7232 - val_f1: 0.8132\n",
      "Epoch 9/10\n",
      "26176/26176 [==============================] - 782s 30ms/step - loss: 0.5336 - accuracy: 0.7190 - f1: 0.8083 - val_loss: 0.5238 - val_accuracy: 0.7238 - val_f1: 0.8066\n",
      "Epoch 10/10\n",
      "26176/26176 [==============================] - 874s 33ms/step - loss: 0.5330 - accuracy: 0.7194 - f1: 0.8085 - val_loss: 0.5238 - val_accuracy: 0.7236 - val_f1: 0.8141\n"
     ]
    }
   ],
   "source": [
    "early_stop = tf.keras.callbacks.EarlyStopping(monitor='val_loss', patience=3)\n",
    "optimizer = keras.optimizers.Adam(learning_rate=0.01)\n",
    "\n",
    "model.compile(optimizer=optimizer,\n",
    "              loss='binary_crossentropy',\n",
    "              metrics=['accuracy',f1])\n",
    "\n",
    "history = model.fit(X_train, y_train, epochs=10,\n",
    "                    validation_data=(X_valid, y_valid),batch_size=512,\n",
    "                    callbacks=[early_stop])"
   ]
  },
  {
   "cell_type": "code",
   "execution_count": 42,
   "id": "50fcdcf7",
   "metadata": {},
   "outputs": [
    {
     "name": "stdout",
     "output_type": "stream",
     "text": [
      "186139/186139 [==============================] - 741s 4ms/step - loss: 0.5240 - accuracy: 0.7234 - f1: 0.8113\n"
     ]
    },
    {
     "data": {
      "text/plain": [
       "[0.5239821672439575, 0.7233765125274658, 0.811265766620636]"
      ]
     },
     "execution_count": 42,
     "metadata": {},
     "output_type": "execute_result"
    }
   ],
   "source": [
    "model.evaluate(X_test,y_test)"
   ]
  },
  {
   "cell_type": "markdown",
   "id": "9ed4a065",
   "metadata": {},
   "source": [
    "#### The accuracy of MLP is increased from 0.6602 to 0.7234 and F1 score from 0.7917 to 0.8112 "
   ]
  },
  {
   "cell_type": "code",
   "execution_count": null,
   "id": "22c6dd6f",
   "metadata": {},
   "outputs": [],
   "source": []
  }
 ],
 "metadata": {
  "kernelspec": {
   "display_name": "Python 3 (ipykernel)",
   "language": "python",
   "name": "python3"
  },
  "language_info": {
   "codemirror_mode": {
    "name": "ipython",
    "version": 3
   },
   "file_extension": ".py",
   "mimetype": "text/x-python",
   "name": "python",
   "nbconvert_exporter": "python",
   "pygments_lexer": "ipython3",
   "version": "3.9.13"
  }
 },
 "nbformat": 4,
 "nbformat_minor": 5
}
